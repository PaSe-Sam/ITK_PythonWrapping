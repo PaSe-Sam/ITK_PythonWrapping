{
 "cells": [
  {
   "cell_type": "code",
   "execution_count": 1,
   "id": "cccce82b-24e0-4baa-a287-b3c94f7055cd",
   "metadata": {},
   "outputs": [],
   "source": [
    "import itk"
   ]
  },
  {
   "cell_type": "code",
   "execution_count": 2,
   "id": "e57c41c3-5d5e-402c-9945-a283d398fab2",
   "metadata": {},
   "outputs": [],
   "source": [
    "# Define the PixelType and PointSetType\n",
    "PixelType = itk.F  # Floating-point type\n",
    "PointSetType = itk.PointSet[PixelType, 3]  # 3D PointSet with PixelType as floating-point\n",
    "\n",
    "# Create a new PointSet instance\n",
    "point_set = PointSetType.New()\n",
    "\n",
    "# Create a dictionary to store associated values\n",
    "point_values = {}"
   ]
  },
  {
   "cell_type": "code",
   "execution_count": 6,
   "id": "772bf407-bd24-4da2-b166-56d0122429ae",
   "metadata": {},
   "outputs": [],
   "source": [
    "# Define and add points with associated values\n",
    "point = itk.Point[PixelType, 3]()\n",
    "point[0] = 1.0\n",
    "point[1] = 2.0\n",
    "point[2] = 3.0\n",
    "point_set.SetPoint(0, point)\n",
    "point_set.SetPointData(0, 10.0) # Adding a value (10.0) to point 0\n",
    "\n",
    "\n",
    "point = itk.Point[PixelType, 3]()\n",
    "point[0] = 4.0\n",
    "point[1] = 5.0\n",
    "point[2] = 6.0\n",
    "point_set.SetPoint(1, point)\n",
    "point_set.SetPointData(1, 20.0) # Adding a value (20.0) to point 1"
   ]
  },
  {
   "cell_type": "code",
   "execution_count": 19,
   "id": "62e98679-1f10-4dc4-9e59-19131bfb8947",
   "metadata": {},
   "outputs": [
    {
     "name": "stdout",
     "output_type": "stream",
     "text": [
      "Points and values in the PointSet:\n",
      "Point 0: (1.0, 2.0, 3.0) - Value: 10.0\n",
      "Point 1: (4.0, 5.0, 6.0) - Value: 20.0\n"
     ]
    }
   ],
   "source": [
    "print(\"Points and values in the PointSet:\")\n",
    "for i in range(point_set.GetNumberOfPoints()):\n",
    "    p = point_set.GetPoint(i)\n",
    "    v = point_set.GetPointData().GetElement(i)  # to access the point data\n",
    "    print(f\"Point {i}: ({p[0]}, {p[1]}, {p[2]}) - Value: {v}\")"
   ]
  },
  {
   "cell_type": "code",
   "execution_count": 21,
   "id": "d88fb6c5-04ee-478a-918f-cb515047619c",
   "metadata": {},
   "outputs": [
    {
     "name": "stdout",
     "output_type": "stream",
     "text": [
      "\n",
      "Total number of points in the PointSet: 2\n"
     ]
    }
   ],
   "source": [
    "# Get the number of points\n",
    "num_points = point_set.GetNumberOfPoints()\n",
    "print(f\"\\nTotal number of points in the PointSet: {num_points}\")"
   ]
  }
 ],
 "metadata": {
  "kernelspec": {
   "display_name": "Python 3 (ipykernel)",
   "language": "python",
   "name": "python3"
  },
  "language_info": {
   "codemirror_mode": {
    "name": "ipython",
    "version": 3
   },
   "file_extension": ".py",
   "mimetype": "text/x-python",
   "name": "python",
   "nbconvert_exporter": "python",
   "pygments_lexer": "ipython3",
   "version": "3.12.4"
  }
 },
 "nbformat": 4,
 "nbformat_minor": 5
}
