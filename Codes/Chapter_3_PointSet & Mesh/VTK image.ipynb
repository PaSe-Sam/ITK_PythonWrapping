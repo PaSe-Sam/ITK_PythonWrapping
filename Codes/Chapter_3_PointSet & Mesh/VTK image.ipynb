{
 "cells": [
  {
   "cell_type": "code",
   "execution_count": 1,
   "id": "e9c58ff6-51ef-4da5-8ae4-513a9db6415e",
   "metadata": {},
   "outputs": [],
   "source": [
    "import itk\n",
    "import itkwidgets\n",
    "import numpy as np"
   ]
  },
  {
   "cell_type": "code",
   "execution_count": null,
   "id": "c193eec3-9a76-48ae-adb7-1c115605be08",
   "metadata": {},
   "outputs": [],
   "source": []
  },
  {
   "cell_type": "code",
   "execution_count": 2,
   "id": "5635f247-a378-4819-bb70-cbc4d9e7f449",
   "metadata": {},
   "outputs": [],
   "source": [
    "Dimension = 3\n",
    "PixelType = itk.F  # float\n",
    "PointSetType = itk.PointSet[PixelType, Dimension]\n",
    "MeshType = itk.Mesh[PixelType, Dimension]"
   ]
  },
  {
   "cell_type": "code",
   "execution_count": 3,
   "id": "039f86de-e5ac-4f9a-a321-5d078d4624a1",
   "metadata": {},
   "outputs": [],
   "source": [
    "def generate_sphere_points(radius, theta_steps, phi_steps):\n",
    "    point_set = PointSetType.New()\n",
    "\n",
    "    point_id = 0\n",
    "    for theta in np.linspace(0, np.pi, theta_steps):\n",
    "        for phi in np.linspace(0, 2 * np.pi, phi_steps):\n",
    "            x = radius * np.sin(theta) * np.cos(phi)\n",
    "            y = radius * np.sin(theta) * np.sin(phi)\n",
    "            z = radius * np.cos(theta)\n",
    "            itk_point = itk.Point[PixelType, Dimension]()\n",
    "            itk_point.SetElement(0, x)\n",
    "            itk_point.SetElement(1, y)\n",
    "            itk_point.SetElement(2, z)\n",
    "            point_set.SetPoint(point_id, itk_point)\n",
    "            point_id += 1\n",
    "\n",
    "    return point_set"
   ]
  },
  {
   "cell_type": "code",
   "execution_count": 4,
   "id": "b5f8b51b-5f91-4e5e-bcfc-35bf1cd7d374",
   "metadata": {},
   "outputs": [],
   "source": [
    "\n",
    "def create_sphere_mesh(point_set, theta_steps, phi_steps):\n",
    "    mesh = MeshType.New()\n",
    "\n",
    "    # Copy points from PointSet to Mesh\n",
    "    for i in range(point_set.GetNumberOfPoints()):\n",
    "        point = point_set.GetPoint(i)\n",
    "        mesh.SetPoint(i, point)\n",
    "\n",
    "    # Define connectivity (triangular cells)\n",
    "    cells_array = []\n",
    "\n",
    "    for i in range(theta_steps - 1):\n",
    "        for j in range(phi_steps):\n",
    "            p1 = i * phi_steps + j\n",
    "            p2 = p1 + phi_steps\n",
    "            p3 = (p1 + 1) % phi_steps + i * phi_steps\n",
    "            p4 = (p2 + 1) % phi_steps + (i + 1) * phi_steps\n",
    "\n",
    "            # Create two triangles per quad on the sphere\n",
    "            cells_array.append([p1, p2, p3])  # First triangle\n",
    "            cells_array.append([p2, p4, p3])  # Second triangle\n",
    "\n",
    "    # Convert cells_array to a vector container\n",
    "    cells_array_np = np.array(cells_array, dtype=np.uint64)\n",
    "    cells_vector = itk.vector_container_from_array(cells_array_np.flatten())\n",
    "\n",
    "    # Set cells with triangular geometry\n",
    "    mesh.SetCellsArray(cells_vector, itk.CommonEnums.CellGeometry_TRIANGLE_CELL)\n",
    "\n",
    "    return mesh"
   ]
  },
  {
   "cell_type": "code",
   "execution_count": 5,
   "id": "360d0aa5-c751-40fd-9da8-4db629642277",
   "metadata": {},
   "outputs": [],
   "source": [
    "# Generate a PointSet with points on a sphere\n",
    "radius = 1.0\n",
    "theta_steps = 10  # latitude lines\n",
    "phi_steps = 20    # longitude lines\n",
    "point_set = generate_sphere_points(radius, theta_steps, phi_steps)\n",
    "\n",
    "# Create the mesh from the PointSet\n",
    "mesh = create_sphere_mesh(point_set, theta_steps, phi_steps)"
   ]
  },
  {
   "cell_type": "code",
   "execution_count": 6,
   "id": "ee8d0fc9-b757-48ff-962c-f7b4a9e3c067",
   "metadata": {},
   "outputs": [],
   "source": [
    "def save_mesh_as_vtk(mesh, filename):\n",
    "    writer = itk.MeshFileWriter[MeshType].New()\n",
    "    writer.SetFileName(filename)\n",
    "    writer.SetInput(mesh)\n",
    "    writer.Update()\n"
   ]
  },
  {
   "cell_type": "code",
   "execution_count": 7,
   "id": "26f321fd-0f03-4fd8-86cd-34a8f28666e1",
   "metadata": {},
   "outputs": [],
   "source": [
    "# Save the mesh\n",
    "save_mesh_as_vtk(mesh, 'mesh.vtk')"
   ]
  }
 ],
 "metadata": {
  "kernelspec": {
   "display_name": "Python 3 (ipykernel)",
   "language": "python",
   "name": "python3"
  },
  "language_info": {
   "codemirror_mode": {
    "name": "ipython",
    "version": 3
   },
   "file_extension": ".py",
   "mimetype": "text/x-python",
   "name": "python",
   "nbconvert_exporter": "python",
   "pygments_lexer": "ipython3",
   "version": "3.12.4"
  }
 },
 "nbformat": 4,
 "nbformat_minor": 5
}
