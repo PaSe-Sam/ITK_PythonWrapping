{
 "cells": [
  {
   "cell_type": "code",
   "execution_count": 2,
   "id": "a67e89d5-c493-4b83-9238-d9118d58580d",
   "metadata": {},
   "outputs": [],
   "source": [
    "import sys\n",
    "import itk\n",
    "import numpy as np\n"
   ]
  },
  {
   "cell_type": "code",
   "execution_count": 3,
   "id": "020471b2-217e-4f45-8ba1-2a52ddd017f3",
   "metadata": {},
   "outputs": [],
   "source": [
    "Dimension = 2\n",
    "PixelType = itk.F  # float or double\n",
    "\n",
    "MeshType = itk.Mesh[PixelType, Dimension]\n",
    "PointType = itk.Point[itk.D, Dimension]\n",
    "\n",
    "mesh = MeshType.New()"
   ]
  },
  {
   "cell_type": "code",
   "execution_count": 6,
   "id": "a1ed442d-0f88-463e-a969-79c1e05c3766",
   "metadata": {},
   "outputs": [],
   "source": [
    "number_of_points = 10\n",
    "for point_id in range(number_of_points):\n",
    "    point = [float(point_id), np.log(float(point_id) + np.finfo(float).eps)]\n",
    "    mesh.SetPoint(point_id, point)"
   ]
  },
  {
   "cell_type": "code",
   "execution_count": 8,
   "id": "8388409e-f4e8-4e95-9d2d-f0a246839c19",
   "metadata": {},
   "outputs": [],
   "source": [
    "number_of_cells = number_of_points - 1\n",
    "\n",
    "# All cells are of type LINE so creating numpy of shape [number_of_cells x 2]\n",
    "cells_array = np.zeros([number_of_cells, 2], dtype=np.uint64)\n",
    "\n",
    "for cell_id in range(number_of_cells):\n",
    "    cells_array[cell_id][0] = cell_id\n",
    "    cells_array[cell_id][1] = cell_id + 1\n",
    "\n",
    "cells_vector = itk.vector_container_from_array(cells_array.flatten())\n",
    "\n",
    "# When all cells are same use the second arguement to pass the cell type\n",
    "mesh.SetCellsArray(cells_vector, itk.CommonEnums.CellGeometry_LINE_CELL)"
   ]
  },
  {
   "cell_type": "code",
   "execution_count": 10,
   "id": "8bf90713-6153-49ed-98ee-ad3be6456c1a",
   "metadata": {},
   "outputs": [
    {
     "name": "stdout",
     "output_type": "stream",
     "text": [
      "Points =  10\n",
      "Cells =  9\n"
     ]
    }
   ],
   "source": [
    "print(\"Points = \", mesh.GetNumberOfPoints())\n",
    "print(\"Cells = \", mesh.GetNumberOfCells())"
   ]
  },
  {
   "cell_type": "code",
   "execution_count": 12,
   "id": "3a745728-8683-4aff-b957-e83c209a617e",
   "metadata": {},
   "outputs": [],
   "source": [
    "# Assign data to cells\n",
    "\n",
    "# This can also be done by setting large array in one function call\n",
    "# which would be more efficient than the following approach\n",
    "for cell_id in range(number_of_cells):\n",
    "    mesh.SetCellData(cell_id, cell_id * cell_id)"
   ]
  },
  {
   "cell_type": "code",
   "execution_count": 14,
   "id": "8ddf7386-8c10-4fc3-948c-9a3946bf8847",
   "metadata": {},
   "outputs": [],
   "source": [
    "# Retrieve data from cells\n",
    "cell_data = mesh.GetCellData()\n",
    "\n",
    "# Obtain numpy array from the vector_container\n",
    "cell_data_np = itk.array_from_vector_container(cell_data)"
   ]
  },
  {
   "cell_type": "code",
   "execution_count": 16,
   "id": "55f60f9b-babd-4e26-9485-4293552ac5a2",
   "metadata": {},
   "outputs": [
    {
     "name": "stdout",
     "output_type": "stream",
     "text": [
      "Cell  0  =  0.0\n",
      "Cell  1  =  1.0\n",
      "Cell  2  =  4.0\n",
      "Cell  3  =  9.0\n",
      "Cell  4  =  16.0\n",
      "Cell  5  =  25.0\n",
      "Cell  6  =  36.0\n",
      "Cell  7  =  49.0\n",
      "Cell  8  =  64.0\n"
     ]
    }
   ],
   "source": [
    "for cell_id in range(number_of_cells):\n",
    "    # Demonstrating two ways of getting the element\n",
    "    # First using GetElement and second using the numpy array\n",
    "    if cell_id % 2 == 0:\n",
    "        print(\"Cell \", cell_id, \" = \", cell_data.GetElement(cell_id))\n",
    "    else:\n",
    "        temp = cell_data_np[cell_id]\n",
    "        print(\"Cell \", cell_id, \" = \", cell_data_np[cell_id])"
   ]
  },
  {
   "cell_type": "code",
   "execution_count": null,
   "id": "a495ef7d-0d68-4422-8a97-b9b2efcf018e",
   "metadata": {},
   "outputs": [],
   "source": []
  }
 ],
 "metadata": {
  "kernelspec": {
   "display_name": "Python 3 (ipykernel)",
   "language": "python",
   "name": "python3"
  },
  "language_info": {
   "codemirror_mode": {
    "name": "ipython",
    "version": 3
   },
   "file_extension": ".py",
   "mimetype": "text/x-python",
   "name": "python",
   "nbconvert_exporter": "python",
   "pygments_lexer": "ipython3",
   "version": "3.12.4"
  }
 },
 "nbformat": 4,
 "nbformat_minor": 5
}
