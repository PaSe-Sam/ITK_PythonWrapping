{
 "cells": [
  {
   "cell_type": "code",
   "execution_count": 1,
   "id": "4b8d7d49-25be-4414-ab69-c9e9bd313a1d",
   "metadata": {},
   "outputs": [],
   "source": [
    "import itk\n",
    "import numpy as np\n"
   ]
  },
  {
   "cell_type": "code",
   "execution_count": 2,
   "id": "c2083d7b-2006-4139-8b53-8ecdc5ed0b25",
   "metadata": {},
   "outputs": [],
   "source": [
    "Dimension = 3\n",
    "PixelType = itk.F  # float\n",
    "MeshType = itk.Mesh[PixelType, Dimension]\n"
   ]
  },
  {
   "cell_type": "code",
   "execution_count": 3,
   "id": "c4ee0a80-3092-41b5-b3e7-203146e726ae",
   "metadata": {},
   "outputs": [],
   "source": [
    "def create_point_only_mesh():\n",
    "    mesh = MeshType.New()\n",
    "\n",
    "    # Create points\n",
    "    points = [\n",
    "        [-1.0, -1.0, 0.0],  # p0\n",
    "        [1.0, -1.0, 0.0],   # p1\n",
    "        [1.0, 1.0, 0.0],    # p2\n",
    "        [1.0, 1.0, 1.0]     # p3\n",
    "    ]\n",
    "\n",
    "    for i, point in enumerate(points):\n",
    "        mesh.SetPoint(i, point)\n",
    "\n",
    "    print(\"Points = \", mesh.GetNumberOfPoints())\n",
    "\n",
    "    # Access points\n",
    "    points_container = mesh.GetPoints()\n",
    "    for point_id in range(points_container.Size()):\n",
    "        point = points_container.GetElement(point_id)\n",
    "        print(point)\n",
    "\n",
    "    return mesh\n"
   ]
  },
  {
   "cell_type": "code",
   "execution_count": 26,
   "id": "6c28628e-8951-4340-858a-6ea27f9855b2",
   "metadata": {},
   "outputs": [],
   "source": [
    "def create_mesh_with_edges():\n",
    "    mesh = create_point_only_mesh()\n",
    "\n",
    "    number_of_points = mesh.GetNumberOfPoints()\n",
    "    number_of_cells = number_of_points - 2\n",
    "\n",
    "    # All cells are of type Triangle so creating numpy array of shape [number_of_cells x 3]\n",
    "    cells_array = np.zeros([number_of_cells, 3], dtype=np.uint64)\n",
    "\n",
    "    for cell_id in range(number_of_cells):\n",
    "        cells_array[cell_id][0] = cell_id\n",
    "        cells_array[cell_id][1] = cell_id + 1\n",
    "        cells_array[cell_id][2] = cell_id + 2\n",
    "\n",
    "    # Flatten the array and create a vector container\n",
    "    cells_vector = itk.vector_container_from_array(cells_array.flatten())\n",
    "\n",
    "    # When all cells are the same, use the second argument to pass the cell type\n",
    "    mesh.SetCellsArray(cells_vector, itk.CommonEnums.CellGeometry_TRIANGLE_CELL)\n",
    "\n",
    "    print(\"Cells = \", mesh.GetNumberOfCells())\n",
    "\n",
    "    cells_container = mesh.GetCells()\n",
    "    cell_data = mesh.GetCellData()\n",
    "\n",
    "    # Assign data to cells\n",
    "    for cell_id in range(number_of_cells):\n",
    "        mesh.SetCellData(cell_id, cell_id * cell_id)\n",
    "\n",
    "    # Retrieve data from cells and print point IDs for each cell\n",
    "    for cell_id in range(cells_container.Size()):\n",
    "        cell = cells_container.GetElement(cell_id)\n",
    "        Triangle_point_ids = cells_array[cell_id]\n",
    "        print(f\"Triangle {cell_id}: first point id = {Triangle_point_ids[0]}, second point id = {Triangle_point_ids[1]}, third point id ={Triangle_point_ids[2]}\")\n",
    "        print(f\"Cell {cell_id} data = {cell_data.GetElement(cell_id)}\")"
   ]
  },
  {
   "cell_type": "code",
   "execution_count": 28,
   "id": "97d9c990-72de-491d-8a72-4c3387bc8319",
   "metadata": {},
   "outputs": [
    {
     "name": "stdout",
     "output_type": "stream",
     "text": [
      "Points =  4\n",
      "itkPointF3 ([-1, -1, 0])\n",
      "itkPointF3 ([1, -1, 0])\n",
      "itkPointF3 ([1, 1, 0])\n",
      "itkPointF3 ([1, 1, 1])\n",
      "Cells =  2\n",
      "Triangle 0: first point id = 0, second point id = 1, third point id =2\n",
      "Cell 0 data = 0.0\n",
      "Triangle 1: first point id = 1, second point id = 2, third point id =3\n",
      "Cell 1 data = 1.0\n"
     ]
    }
   ],
   "source": [
    "create_mesh_with_edges()"
   ]
  },
  {
   "cell_type": "code",
   "execution_count": null,
   "id": "4fd9ccce-f57d-4601-9d4a-6e9b1f79c14d",
   "metadata": {},
   "outputs": [],
   "source": []
  }
 ],
 "metadata": {
  "kernelspec": {
   "display_name": "Python 3 (ipykernel)",
   "language": "python",
   "name": "python3"
  },
  "language_info": {
   "codemirror_mode": {
    "name": "ipython",
    "version": 3
   },
   "file_extension": ".py",
   "mimetype": "text/x-python",
   "name": "python",
   "nbconvert_exporter": "python",
   "pygments_lexer": "ipython3",
   "version": "3.12.4"
  }
 },
 "nbformat": 4,
 "nbformat_minor": 5
}
